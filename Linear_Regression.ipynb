{
  "nbformat": 4,
  "nbformat_minor": 0,
  "metadata": {
    "colab": {
      "name": "Linear_Regression.ipynb",
      "provenance": [],
      "collapsed_sections": [
        "DsjHM4h7Q_GL"
      ],
      "include_colab_link": true
    },
    "kernelspec": {
      "name": "python3",
      "display_name": "Python 3"
    },
    "language_info": {
      "name": "python"
    }
  },
  "cells": [
    {
      "cell_type": "markdown",
      "metadata": {
        "id": "view-in-github",
        "colab_type": "text"
      },
      "source": [
        "<a href=\"https://colab.research.google.com/github/Toadoum/Machine-Learning-from-scratch/blob/main/Linear_Regression.ipynb\" target=\"_parent\"><img src=\"https://colab.research.google.com/assets/colab-badge.svg\" alt=\"Open In Colab\"/></a>"
      ]
    },
    {
      "cell_type": "code",
      "execution_count": null,
      "metadata": {
        "id": "1reY7uzDN9ae"
      },
      "outputs": [],
      "source": [
        "import pandas as pd\n",
        "import numpy as np\n",
        "import matplotlib.pyplot as plt"
      ]
    },
    {
      "cell_type": "markdown",
      "source": [
        "# Import the dataset"
      ],
      "metadata": {
        "id": "ULcSQJckOFN9"
      }
    },
    {
      "cell_type": "code",
      "source": [
        "data = pd.read_excel(\"data.xlsx\")\n",
        "data.head()"
      ],
      "metadata": {
        "id": "K1C6eB7xOC8T",
        "colab": {
          "base_uri": "https://localhost:8080/",
          "height": 204
        },
        "outputId": "8717344c-36ac-4e0c-8b38-c3f0acf13420"
      },
      "execution_count": null,
      "outputs": [
        {
          "output_type": "execute_result",
          "data": {
            "text/html": [
              "\n",
              "  <div id=\"df-36f50d28-8703-4c42-8f68-bdfa1847a9a0\">\n",
              "    <div class=\"colab-df-container\">\n",
              "      <div>\n",
              "<style scoped>\n",
              "    .dataframe tbody tr th:only-of-type {\n",
              "        vertical-align: middle;\n",
              "    }\n",
              "\n",
              "    .dataframe tbody tr th {\n",
              "        vertical-align: top;\n",
              "    }\n",
              "\n",
              "    .dataframe thead th {\n",
              "        text-align: right;\n",
              "    }\n",
              "</style>\n",
              "<table border=\"1\" class=\"dataframe\">\n",
              "  <thead>\n",
              "    <tr style=\"text-align: right;\">\n",
              "      <th></th>\n",
              "      <th>X1</th>\n",
              "      <th>X2</th>\n",
              "      <th>X3</th>\n",
              "      <th>X4</th>\n",
              "      <th>Y</th>\n",
              "    </tr>\n",
              "  </thead>\n",
              "  <tbody>\n",
              "    <tr>\n",
              "      <th>0</th>\n",
              "      <td>14.96</td>\n",
              "      <td>41.76</td>\n",
              "      <td>1024.07</td>\n",
              "      <td>73.17</td>\n",
              "      <td>463.26</td>\n",
              "    </tr>\n",
              "    <tr>\n",
              "      <th>1</th>\n",
              "      <td>25.18</td>\n",
              "      <td>62.96</td>\n",
              "      <td>1020.04</td>\n",
              "      <td>59.08</td>\n",
              "      <td>444.37</td>\n",
              "    </tr>\n",
              "    <tr>\n",
              "      <th>2</th>\n",
              "      <td>5.11</td>\n",
              "      <td>39.40</td>\n",
              "      <td>1012.16</td>\n",
              "      <td>92.14</td>\n",
              "      <td>488.56</td>\n",
              "    </tr>\n",
              "    <tr>\n",
              "      <th>3</th>\n",
              "      <td>20.86</td>\n",
              "      <td>57.32</td>\n",
              "      <td>1010.24</td>\n",
              "      <td>76.64</td>\n",
              "      <td>446.48</td>\n",
              "    </tr>\n",
              "    <tr>\n",
              "      <th>4</th>\n",
              "      <td>10.82</td>\n",
              "      <td>37.50</td>\n",
              "      <td>1009.23</td>\n",
              "      <td>96.62</td>\n",
              "      <td>473.90</td>\n",
              "    </tr>\n",
              "  </tbody>\n",
              "</table>\n",
              "</div>\n",
              "      <button class=\"colab-df-convert\" onclick=\"convertToInteractive('df-36f50d28-8703-4c42-8f68-bdfa1847a9a0')\"\n",
              "              title=\"Convert this dataframe to an interactive table.\"\n",
              "              style=\"display:none;\">\n",
              "        \n",
              "  <svg xmlns=\"http://www.w3.org/2000/svg\" height=\"24px\"viewBox=\"0 0 24 24\"\n",
              "       width=\"24px\">\n",
              "    <path d=\"M0 0h24v24H0V0z\" fill=\"none\"/>\n",
              "    <path d=\"M18.56 5.44l.94 2.06.94-2.06 2.06-.94-2.06-.94-.94-2.06-.94 2.06-2.06.94zm-11 1L8.5 8.5l.94-2.06 2.06-.94-2.06-.94L8.5 2.5l-.94 2.06-2.06.94zm10 10l.94 2.06.94-2.06 2.06-.94-2.06-.94-.94-2.06-.94 2.06-2.06.94z\"/><path d=\"M17.41 7.96l-1.37-1.37c-.4-.4-.92-.59-1.43-.59-.52 0-1.04.2-1.43.59L10.3 9.45l-7.72 7.72c-.78.78-.78 2.05 0 2.83L4 21.41c.39.39.9.59 1.41.59.51 0 1.02-.2 1.41-.59l7.78-7.78 2.81-2.81c.8-.78.8-2.07 0-2.86zM5.41 20L4 18.59l7.72-7.72 1.47 1.35L5.41 20z\"/>\n",
              "  </svg>\n",
              "      </button>\n",
              "      \n",
              "  <style>\n",
              "    .colab-df-container {\n",
              "      display:flex;\n",
              "      flex-wrap:wrap;\n",
              "      gap: 12px;\n",
              "    }\n",
              "\n",
              "    .colab-df-convert {\n",
              "      background-color: #E8F0FE;\n",
              "      border: none;\n",
              "      border-radius: 50%;\n",
              "      cursor: pointer;\n",
              "      display: none;\n",
              "      fill: #1967D2;\n",
              "      height: 32px;\n",
              "      padding: 0 0 0 0;\n",
              "      width: 32px;\n",
              "    }\n",
              "\n",
              "    .colab-df-convert:hover {\n",
              "      background-color: #E2EBFA;\n",
              "      box-shadow: 0px 1px 2px rgba(60, 64, 67, 0.3), 0px 1px 3px 1px rgba(60, 64, 67, 0.15);\n",
              "      fill: #174EA6;\n",
              "    }\n",
              "\n",
              "    [theme=dark] .colab-df-convert {\n",
              "      background-color: #3B4455;\n",
              "      fill: #D2E3FC;\n",
              "    }\n",
              "\n",
              "    [theme=dark] .colab-df-convert:hover {\n",
              "      background-color: #434B5C;\n",
              "      box-shadow: 0px 1px 3px 1px rgba(0, 0, 0, 0.15);\n",
              "      filter: drop-shadow(0px 1px 2px rgba(0, 0, 0, 0.3));\n",
              "      fill: #FFFFFF;\n",
              "    }\n",
              "  </style>\n",
              "\n",
              "      <script>\n",
              "        const buttonEl =\n",
              "          document.querySelector('#df-36f50d28-8703-4c42-8f68-bdfa1847a9a0 button.colab-df-convert');\n",
              "        buttonEl.style.display =\n",
              "          google.colab.kernel.accessAllowed ? 'block' : 'none';\n",
              "\n",
              "        async function convertToInteractive(key) {\n",
              "          const element = document.querySelector('#df-36f50d28-8703-4c42-8f68-bdfa1847a9a0');\n",
              "          const dataTable =\n",
              "            await google.colab.kernel.invokeFunction('convertToInteractive',\n",
              "                                                     [key], {});\n",
              "          if (!dataTable) return;\n",
              "\n",
              "          const docLinkHtml = 'Like what you see? Visit the ' +\n",
              "            '<a target=\"_blank\" href=https://colab.research.google.com/notebooks/data_table.ipynb>data table notebook</a>'\n",
              "            + ' to learn more about interactive tables.';\n",
              "          element.innerHTML = '';\n",
              "          dataTable['output_type'] = 'display_data';\n",
              "          await google.colab.output.renderOutput(dataTable, element);\n",
              "          const docLink = document.createElement('div');\n",
              "          docLink.innerHTML = docLinkHtml;\n",
              "          element.appendChild(docLink);\n",
              "        }\n",
              "      </script>\n",
              "    </div>\n",
              "  </div>\n",
              "  "
            ],
            "text/plain": [
              "      X1     X2       X3     X4       Y\n",
              "0  14.96  41.76  1024.07  73.17  463.26\n",
              "1  25.18  62.96  1020.04  59.08  444.37\n",
              "2   5.11  39.40  1012.16  92.14  488.56\n",
              "3  20.86  57.32  1010.24  76.64  446.48\n",
              "4  10.82  37.50  1009.23  96.62  473.90"
            ]
          },
          "metadata": {},
          "execution_count": 2
        }
      ]
    },
    {
      "cell_type": "code",
      "source": [
        "from google.colab import drive\n",
        "drive.mount('/content/drive')"
      ],
      "metadata": {
        "colab": {
          "base_uri": "https://localhost:8080/"
        },
        "id": "Wh0K70_heSNr",
        "outputId": "19df8c04-e9cc-4566-a2c1-f9b0ee0339ee"
      },
      "execution_count": null,
      "outputs": [
        {
          "output_type": "stream",
          "name": "stdout",
          "text": [
            "Drive already mounted at /content/drive; to attempt to forcibly remount, call drive.mount(\"/content/drive\", force_remount=True).\n"
          ]
        }
      ]
    },
    {
      "cell_type": "code",
      "source": [
        "data.shape"
      ],
      "metadata": {
        "id": "OYpjGDo9OBok",
        "colab": {
          "base_uri": "https://localhost:8080/"
        },
        "outputId": "d1400b9c-41ec-4f74-9c54-8ab4cd6c8f01"
      },
      "execution_count": null,
      "outputs": [
        {
          "output_type": "execute_result",
          "data": {
            "text/plain": [
              "(9568, 5)"
            ]
          },
          "metadata": {},
          "execution_count": 3
        }
      ]
    },
    {
      "cell_type": "code",
      "source": [
        ""
      ],
      "metadata": {
        "id": "2hwQdtUhOQ1i"
      },
      "execution_count": null,
      "outputs": []
    },
    {
      "cell_type": "markdown",
      "source": [
        "# Standardize the data. The data will follow a standard normal distribution with mean 0 and std 1."
      ],
      "metadata": {
        "id": "9JdKik1lOX9P"
      }
    },
    {
      "cell_type": "code",
      "source": [
        "#def feature_standard(data):\n",
        "  ######## write your code #########\n",
        "  #data_Scaled= (data - data.mean(axis=0))/data.std(axis=0)\n",
        "\n",
        "\n",
        "  #return data_Scaled"
      ],
      "metadata": {
        "id": "Wfuy9yLoOg1b"
      },
      "execution_count": null,
      "outputs": []
    },
    {
      "cell_type": "code",
      "source": [
        "def feature_standard(data):\n",
        "  ######## write your code #########\n",
        "  dmean=np.mean(data, axis=0)\n",
        "  dstd= np.mean(data, axis=0)\n",
        "  data_Scaled= (data - dmean)/dstd\n",
        "\n",
        "\n",
        "  return data_Scaled"
      ],
      "metadata": {
        "id": "DBFjaxOXiE4A"
      },
      "execution_count": null,
      "outputs": []
    },
    {
      "cell_type": "code",
      "source": [
        "Standard_data=feature_standard(data)"
      ],
      "metadata": {
        "id": "0HkTVjDMhaO0"
      },
      "execution_count": null,
      "outputs": []
    },
    {
      "cell_type": "code",
      "source": [
        "data.iloc[:, 0:-1]=Standard_data.iloc[:, 0:-1]\n",
        "data.head()"
      ],
      "metadata": {
        "colab": {
          "base_uri": "https://localhost:8080/",
          "height": 204
        },
        "id": "2LKaPi1LjWHl",
        "outputId": "119eb010-1030-4d60-a2e5-3b830b7eb364"
      },
      "execution_count": null,
      "outputs": [
        {
          "output_type": "execute_result",
          "data": {
            "text/html": [
              "\n",
              "  <div id=\"df-93e4378f-9996-4cf0-93fb-27d1e136dcd7\">\n",
              "    <div class=\"colab-df-container\">\n",
              "      <div>\n",
              "<style scoped>\n",
              "    .dataframe tbody tr th:only-of-type {\n",
              "        vertical-align: middle;\n",
              "    }\n",
              "\n",
              "    .dataframe tbody tr th {\n",
              "        vertical-align: top;\n",
              "    }\n",
              "\n",
              "    .dataframe thead th {\n",
              "        text-align: right;\n",
              "    }\n",
              "</style>\n",
              "<table border=\"1\" class=\"dataframe\">\n",
              "  <thead>\n",
              "    <tr style=\"text-align: right;\">\n",
              "      <th></th>\n",
              "      <th>X1</th>\n",
              "      <th>X2</th>\n",
              "      <th>X3</th>\n",
              "      <th>X4</th>\n",
              "      <th>Y</th>\n",
              "    </tr>\n",
              "  </thead>\n",
              "  <tbody>\n",
              "    <tr>\n",
              "      <th>0</th>\n",
              "      <td>-0.238725</td>\n",
              "      <td>-0.231021</td>\n",
              "      <td>0.010669</td>\n",
              "      <td>-0.001896</td>\n",
              "      <td>463.26</td>\n",
              "    </tr>\n",
              "    <tr>\n",
              "      <th>1</th>\n",
              "      <td>0.281345</td>\n",
              "      <td>0.159360</td>\n",
              "      <td>0.006692</td>\n",
              "      <td>-0.194096</td>\n",
              "      <td>444.37</td>\n",
              "    </tr>\n",
              "    <tr>\n",
              "      <th>2</th>\n",
              "      <td>-0.739965</td>\n",
              "      <td>-0.274479</td>\n",
              "      <td>-0.001085</td>\n",
              "      <td>0.256872</td>\n",
              "      <td>488.56</td>\n",
              "    </tr>\n",
              "    <tr>\n",
              "      <th>3</th>\n",
              "      <td>0.061511</td>\n",
              "      <td>0.055504</td>\n",
              "      <td>-0.002980</td>\n",
              "      <td>0.045438</td>\n",
              "      <td>446.48</td>\n",
              "    </tr>\n",
              "    <tr>\n",
              "      <th>4</th>\n",
              "      <td>-0.449398</td>\n",
              "      <td>-0.309466</td>\n",
              "      <td>-0.003976</td>\n",
              "      <td>0.317983</td>\n",
              "      <td>473.90</td>\n",
              "    </tr>\n",
              "  </tbody>\n",
              "</table>\n",
              "</div>\n",
              "      <button class=\"colab-df-convert\" onclick=\"convertToInteractive('df-93e4378f-9996-4cf0-93fb-27d1e136dcd7')\"\n",
              "              title=\"Convert this dataframe to an interactive table.\"\n",
              "              style=\"display:none;\">\n",
              "        \n",
              "  <svg xmlns=\"http://www.w3.org/2000/svg\" height=\"24px\"viewBox=\"0 0 24 24\"\n",
              "       width=\"24px\">\n",
              "    <path d=\"M0 0h24v24H0V0z\" fill=\"none\"/>\n",
              "    <path d=\"M18.56 5.44l.94 2.06.94-2.06 2.06-.94-2.06-.94-.94-2.06-.94 2.06-2.06.94zm-11 1L8.5 8.5l.94-2.06 2.06-.94-2.06-.94L8.5 2.5l-.94 2.06-2.06.94zm10 10l.94 2.06.94-2.06 2.06-.94-2.06-.94-.94-2.06-.94 2.06-2.06.94z\"/><path d=\"M17.41 7.96l-1.37-1.37c-.4-.4-.92-.59-1.43-.59-.52 0-1.04.2-1.43.59L10.3 9.45l-7.72 7.72c-.78.78-.78 2.05 0 2.83L4 21.41c.39.39.9.59 1.41.59.51 0 1.02-.2 1.41-.59l7.78-7.78 2.81-2.81c.8-.78.8-2.07 0-2.86zM5.41 20L4 18.59l7.72-7.72 1.47 1.35L5.41 20z\"/>\n",
              "  </svg>\n",
              "      </button>\n",
              "      \n",
              "  <style>\n",
              "    .colab-df-container {\n",
              "      display:flex;\n",
              "      flex-wrap:wrap;\n",
              "      gap: 12px;\n",
              "    }\n",
              "\n",
              "    .colab-df-convert {\n",
              "      background-color: #E8F0FE;\n",
              "      border: none;\n",
              "      border-radius: 50%;\n",
              "      cursor: pointer;\n",
              "      display: none;\n",
              "      fill: #1967D2;\n",
              "      height: 32px;\n",
              "      padding: 0 0 0 0;\n",
              "      width: 32px;\n",
              "    }\n",
              "\n",
              "    .colab-df-convert:hover {\n",
              "      background-color: #E2EBFA;\n",
              "      box-shadow: 0px 1px 2px rgba(60, 64, 67, 0.3), 0px 1px 3px 1px rgba(60, 64, 67, 0.15);\n",
              "      fill: #174EA6;\n",
              "    }\n",
              "\n",
              "    [theme=dark] .colab-df-convert {\n",
              "      background-color: #3B4455;\n",
              "      fill: #D2E3FC;\n",
              "    }\n",
              "\n",
              "    [theme=dark] .colab-df-convert:hover {\n",
              "      background-color: #434B5C;\n",
              "      box-shadow: 0px 1px 3px 1px rgba(0, 0, 0, 0.15);\n",
              "      filter: drop-shadow(0px 1px 2px rgba(0, 0, 0, 0.3));\n",
              "      fill: #FFFFFF;\n",
              "    }\n",
              "  </style>\n",
              "\n",
              "      <script>\n",
              "        const buttonEl =\n",
              "          document.querySelector('#df-93e4378f-9996-4cf0-93fb-27d1e136dcd7 button.colab-df-convert');\n",
              "        buttonEl.style.display =\n",
              "          google.colab.kernel.accessAllowed ? 'block' : 'none';\n",
              "\n",
              "        async function convertToInteractive(key) {\n",
              "          const element = document.querySelector('#df-93e4378f-9996-4cf0-93fb-27d1e136dcd7');\n",
              "          const dataTable =\n",
              "            await google.colab.kernel.invokeFunction('convertToInteractive',\n",
              "                                                     [key], {});\n",
              "          if (!dataTable) return;\n",
              "\n",
              "          const docLinkHtml = 'Like what you see? Visit the ' +\n",
              "            '<a target=\"_blank\" href=https://colab.research.google.com/notebooks/data_table.ipynb>data table notebook</a>'\n",
              "            + ' to learn more about interactive tables.';\n",
              "          element.innerHTML = '';\n",
              "          dataTable['output_type'] = 'display_data';\n",
              "          await google.colab.output.renderOutput(dataTable, element);\n",
              "          const docLink = document.createElement('div');\n",
              "          docLink.innerHTML = docLinkHtml;\n",
              "          element.appendChild(docLink);\n",
              "        }\n",
              "      </script>\n",
              "    </div>\n",
              "  </div>\n",
              "  "
            ],
            "text/plain": [
              "         X1        X2        X3        X4       Y\n",
              "0 -0.238725 -0.231021  0.010669 -0.001896  463.26\n",
              "1  0.281345  0.159360  0.006692 -0.194096  444.37\n",
              "2 -0.739965 -0.274479 -0.001085  0.256872  488.56\n",
              "3  0.061511  0.055504 -0.002980  0.045438  446.48\n",
              "4 -0.449398 -0.309466 -0.003976  0.317983  473.90"
            ]
          },
          "metadata": {},
          "execution_count": 6
        }
      ]
    },
    {
      "cell_type": "code",
      "source": [
        "data.describe()"
      ],
      "metadata": {
        "id": "JP1v3wTeO2E2",
        "colab": {
          "base_uri": "https://localhost:8080/",
          "height": 297
        },
        "outputId": "48ea0d2e-9f53-44a6-c1d7-e79eb37b8865"
      },
      "execution_count": null,
      "outputs": [
        {
          "output_type": "execute_result",
          "data": {
            "text/html": [
              "\n",
              "  <div id=\"df-0f962210-83d3-4c50-896f-7d5c3fa90746\">\n",
              "    <div class=\"colab-df-container\">\n",
              "      <div>\n",
              "<style scoped>\n",
              "    .dataframe tbody tr th:only-of-type {\n",
              "        vertical-align: middle;\n",
              "    }\n",
              "\n",
              "    .dataframe tbody tr th {\n",
              "        vertical-align: top;\n",
              "    }\n",
              "\n",
              "    .dataframe thead th {\n",
              "        text-align: right;\n",
              "    }\n",
              "</style>\n",
              "<table border=\"1\" class=\"dataframe\">\n",
              "  <thead>\n",
              "    <tr style=\"text-align: right;\">\n",
              "      <th></th>\n",
              "      <th>X1</th>\n",
              "      <th>X2</th>\n",
              "      <th>X3</th>\n",
              "      <th>X4</th>\n",
              "      <th>Y</th>\n",
              "    </tr>\n",
              "  </thead>\n",
              "  <tbody>\n",
              "    <tr>\n",
              "      <th>count</th>\n",
              "      <td>9.568000e+03</td>\n",
              "      <td>9.568000e+03</td>\n",
              "      <td>9.568000e+03</td>\n",
              "      <td>9.568000e+03</td>\n",
              "      <td>9568.000000</td>\n",
              "    </tr>\n",
              "    <tr>\n",
              "      <th>mean</th>\n",
              "      <td>-2.597792e-15</td>\n",
              "      <td>-4.107216e-15</td>\n",
              "      <td>-2.772777e-15</td>\n",
              "      <td>1.482405e-15</td>\n",
              "      <td>454.365009</td>\n",
              "    </tr>\n",
              "    <tr>\n",
              "      <th>std</th>\n",
              "      <td>3.792370e-01</td>\n",
              "      <td>2.340062e-01</td>\n",
              "      <td>5.861071e-03</td>\n",
              "      <td>1.991607e-01</td>\n",
              "      <td>17.066995</td>\n",
              "    </tr>\n",
              "    <tr>\n",
              "      <th>min</th>\n",
              "      <td>-9.078938e-01</td>\n",
              "      <td>-5.330149e-01</td>\n",
              "      <td>-2.010254e-02</td>\n",
              "      <td>-6.513387e-01</td>\n",
              "      <td>420.260000</td>\n",
              "    </tr>\n",
              "    <tr>\n",
              "      <th>25%</th>\n",
              "      <td>-3.125113e-01</td>\n",
              "      <td>-2.313897e-01</td>\n",
              "      <td>-4.104654e-03</td>\n",
              "      <td>-1.361563e-01</td>\n",
              "      <td>439.750000</td>\n",
              "    </tr>\n",
              "    <tr>\n",
              "      <th>50%</th>\n",
              "      <td>3.530409e-02</td>\n",
              "      <td>-4.098648e-02</td>\n",
              "      <td>-3.149029e-04</td>\n",
              "      <td>2.272603e-02</td>\n",
              "      <td>451.550000</td>\n",
              "    </tr>\n",
              "    <tr>\n",
              "      <th>75%</th>\n",
              "      <td>3.088238e-01</td>\n",
              "      <td>2.252834e-01</td>\n",
              "      <td>3.948567e-03</td>\n",
              "      <td>1.571570e-01</td>\n",
              "      <td>468.430000</td>\n",
              "    </tr>\n",
              "    <tr>\n",
              "      <th>max</th>\n",
              "      <td>8.884313e-01</td>\n",
              "      <td>5.018653e-01</td>\n",
              "      <td>1.977867e-02</td>\n",
              "      <td>3.662719e-01</td>\n",
              "      <td>495.760000</td>\n",
              "    </tr>\n",
              "  </tbody>\n",
              "</table>\n",
              "</div>\n",
              "      <button class=\"colab-df-convert\" onclick=\"convertToInteractive('df-0f962210-83d3-4c50-896f-7d5c3fa90746')\"\n",
              "              title=\"Convert this dataframe to an interactive table.\"\n",
              "              style=\"display:none;\">\n",
              "        \n",
              "  <svg xmlns=\"http://www.w3.org/2000/svg\" height=\"24px\"viewBox=\"0 0 24 24\"\n",
              "       width=\"24px\">\n",
              "    <path d=\"M0 0h24v24H0V0z\" fill=\"none\"/>\n",
              "    <path d=\"M18.56 5.44l.94 2.06.94-2.06 2.06-.94-2.06-.94-.94-2.06-.94 2.06-2.06.94zm-11 1L8.5 8.5l.94-2.06 2.06-.94-2.06-.94L8.5 2.5l-.94 2.06-2.06.94zm10 10l.94 2.06.94-2.06 2.06-.94-2.06-.94-.94-2.06-.94 2.06-2.06.94z\"/><path d=\"M17.41 7.96l-1.37-1.37c-.4-.4-.92-.59-1.43-.59-.52 0-1.04.2-1.43.59L10.3 9.45l-7.72 7.72c-.78.78-.78 2.05 0 2.83L4 21.41c.39.39.9.59 1.41.59.51 0 1.02-.2 1.41-.59l7.78-7.78 2.81-2.81c.8-.78.8-2.07 0-2.86zM5.41 20L4 18.59l7.72-7.72 1.47 1.35L5.41 20z\"/>\n",
              "  </svg>\n",
              "      </button>\n",
              "      \n",
              "  <style>\n",
              "    .colab-df-container {\n",
              "      display:flex;\n",
              "      flex-wrap:wrap;\n",
              "      gap: 12px;\n",
              "    }\n",
              "\n",
              "    .colab-df-convert {\n",
              "      background-color: #E8F0FE;\n",
              "      border: none;\n",
              "      border-radius: 50%;\n",
              "      cursor: pointer;\n",
              "      display: none;\n",
              "      fill: #1967D2;\n",
              "      height: 32px;\n",
              "      padding: 0 0 0 0;\n",
              "      width: 32px;\n",
              "    }\n",
              "\n",
              "    .colab-df-convert:hover {\n",
              "      background-color: #E2EBFA;\n",
              "      box-shadow: 0px 1px 2px rgba(60, 64, 67, 0.3), 0px 1px 3px 1px rgba(60, 64, 67, 0.15);\n",
              "      fill: #174EA6;\n",
              "    }\n",
              "\n",
              "    [theme=dark] .colab-df-convert {\n",
              "      background-color: #3B4455;\n",
              "      fill: #D2E3FC;\n",
              "    }\n",
              "\n",
              "    [theme=dark] .colab-df-convert:hover {\n",
              "      background-color: #434B5C;\n",
              "      box-shadow: 0px 1px 3px 1px rgba(0, 0, 0, 0.15);\n",
              "      filter: drop-shadow(0px 1px 2px rgba(0, 0, 0, 0.3));\n",
              "      fill: #FFFFFF;\n",
              "    }\n",
              "  </style>\n",
              "\n",
              "      <script>\n",
              "        const buttonEl =\n",
              "          document.querySelector('#df-0f962210-83d3-4c50-896f-7d5c3fa90746 button.colab-df-convert');\n",
              "        buttonEl.style.display =\n",
              "          google.colab.kernel.accessAllowed ? 'block' : 'none';\n",
              "\n",
              "        async function convertToInteractive(key) {\n",
              "          const element = document.querySelector('#df-0f962210-83d3-4c50-896f-7d5c3fa90746');\n",
              "          const dataTable =\n",
              "            await google.colab.kernel.invokeFunction('convertToInteractive',\n",
              "                                                     [key], {});\n",
              "          if (!dataTable) return;\n",
              "\n",
              "          const docLinkHtml = 'Like what you see? Visit the ' +\n",
              "            '<a target=\"_blank\" href=https://colab.research.google.com/notebooks/data_table.ipynb>data table notebook</a>'\n",
              "            + ' to learn more about interactive tables.';\n",
              "          element.innerHTML = '';\n",
              "          dataTable['output_type'] = 'display_data';\n",
              "          await google.colab.output.renderOutput(dataTable, element);\n",
              "          const docLink = document.createElement('div');\n",
              "          docLink.innerHTML = docLinkHtml;\n",
              "          element.appendChild(docLink);\n",
              "        }\n",
              "      </script>\n",
              "    </div>\n",
              "  </div>\n",
              "  "
            ],
            "text/plain": [
              "                 X1            X2            X3            X4            Y\n",
              "count  9.568000e+03  9.568000e+03  9.568000e+03  9.568000e+03  9568.000000\n",
              "mean  -2.597792e-15 -4.107216e-15 -2.772777e-15  1.482405e-15   454.365009\n",
              "std    3.792370e-01  2.340062e-01  5.861071e-03  1.991607e-01    17.066995\n",
              "min   -9.078938e-01 -5.330149e-01 -2.010254e-02 -6.513387e-01   420.260000\n",
              "25%   -3.125113e-01 -2.313897e-01 -4.104654e-03 -1.361563e-01   439.750000\n",
              "50%    3.530409e-02 -4.098648e-02 -3.149029e-04  2.272603e-02   451.550000\n",
              "75%    3.088238e-01  2.252834e-01  3.948567e-03  1.571570e-01   468.430000\n",
              "max    8.884313e-01  5.018653e-01  1.977867e-02  3.662719e-01   495.760000"
            ]
          },
          "metadata": {},
          "execution_count": 7
        }
      ]
    },
    {
      "cell_type": "code",
      "source": [
        "data.iloc"
      ],
      "metadata": {
        "id": "IjugRBgFiu2n",
        "colab": {
          "base_uri": "https://localhost:8080/"
        },
        "outputId": "94e3c986-f182-4c94-b285-203b589e488c"
      },
      "execution_count": null,
      "outputs": [
        {
          "output_type": "execute_result",
          "data": {
            "text/plain": [
              "<pandas.core.indexing._iLocIndexer at 0x7fbd19b9a2f0>"
            ]
          },
          "metadata": {},
          "execution_count": 8
        }
      ]
    },
    {
      "cell_type": "markdown",
      "source": [
        "# Split the data in train and test"
      ],
      "metadata": {
        "id": "CsO27swTPF39"
      }
    },
    {
      "cell_type": "code",
      "source": [
        "def split_data(df, train_percent):\n",
        "  ########## fill the code ########\n",
        "  np.random.seed(3)\n",
        "  perm=np.random.permutation(df.index)\n",
        "\n",
        "  n=len(df)\n",
        "\n",
        "  train_index=int(train_percent*n)\n",
        "  train=df.iloc[perm[:train_index]]\n",
        "  test=df.iloc[perm[train_index:]]\n",
        "\n",
        "  X_train=train.iloc[:, :-1]\n",
        "  Y_train=train.iloc[:, -1]\n",
        "\n",
        "  X_test=test.iloc[:, :-1]\n",
        "  Y_test=test.iloc[:, -1]\n",
        "\n",
        "  return X_train, X_test, Y_train, Y_test"
      ],
      "metadata": {
        "id": "yK8lj2UJkjIf"
      },
      "execution_count": null,
      "outputs": []
    },
    {
      "cell_type": "code",
      "source": [
        "X_train, X_test, Y_train, Y_test =split_data(data, 0.8)"
      ],
      "metadata": {
        "id": "GWagOgPT1u19"
      },
      "execution_count": null,
      "outputs": []
    },
    {
      "cell_type": "code",
      "source": [
        "#from sklearn.model_selection import train_test_split\n",
        "#def split_data(df, train_percent):\n",
        "  ########## fill the code ########\n",
        "  #X_train, X_test, y_train, y_test = train_test_split(data, test_size=train_percent, random_state=42)\n",
        "\n",
        "\n",
        "  #return X_train, X_test, Y_train, Y_test"
      ],
      "metadata": {
        "id": "SVpJHpvOPKSw"
      },
      "execution_count": null,
      "outputs": []
    },
    {
      "cell_type": "code",
      "source": [
        "X_train.shape, X_test.shape"
      ],
      "metadata": {
        "id": "_0B1pW9LPbPq",
        "colab": {
          "base_uri": "https://localhost:8080/"
        },
        "outputId": "ecc1f464-ac37-42ce-80ce-303c28b4a934"
      },
      "execution_count": null,
      "outputs": [
        {
          "output_type": "execute_result",
          "data": {
            "text/plain": [
              "((7654, 4), (1914, 4))"
            ]
          },
          "metadata": {},
          "execution_count": 11
        }
      ]
    },
    {
      "cell_type": "code",
      "source": [
        "Y_train.shape, Y_test.shape"
      ],
      "metadata": {
        "id": "j9jQnKfsPeqH",
        "colab": {
          "base_uri": "https://localhost:8080/"
        },
        "outputId": "e6b1ea43-63c1-48f0-ee29-6be927e7ff57"
      },
      "execution_count": null,
      "outputs": [
        {
          "output_type": "execute_result",
          "data": {
            "text/plain": [
              "((7654,), (1914,))"
            ]
          },
          "metadata": {},
          "execution_count": 12
        }
      ]
    },
    {
      "cell_type": "markdown",
      "source": [
        "# Train a linear regression model"
      ],
      "metadata": {
        "id": "LdrSOQcSPnkQ"
      }
    },
    {
      "cell_type": "code",
      "source": [
        "def add_ones(X):\n",
        "    ###### fill the code ####\n",
        "\n",
        "  X_new=np.hstack([np.ones((X.shape[0], 1)), X])\n",
        "    #########################\n",
        "\n",
        "\n",
        "  return X_new\n",
        "\n",
        "def compute_cost(X, y, theta):\n",
        "    ######## fill the code ###########\n",
        "\n",
        "  loss=(1/len(y))*np.sum((X.dot(theta)-y)**2)\n",
        "    ##################################\n",
        "\n",
        "\n",
        "  return loss\n",
        "\n",
        "\n",
        "def Train(X, y, lr, epoch):\n",
        "\n",
        "\n",
        "  m = len(y)\n",
        "  X = add_ones(X.values)\n",
        "  theta = np.zeros(X.shape[1])\n",
        "\n",
        "  cost_history= np.zeros(epoch)\n",
        "\n",
        "  ######## fill the code #######\n",
        "  for i in range(epoch):\n",
        "    \n",
        "    theta_new=theta-lr*X.T.dot(X.dot(theta)-y)\n",
        "    theta=theta_new\n",
        "    cost_history[i]=compute_cost(X, y, theta)\n",
        "  ##############################\n",
        "\n",
        "  return  theta, cost_history\n",
        "  \n",
        "  \n",
        "def predict(X, theta):\n",
        "  ########## fill the code #########\n",
        "  X=add_ones(X.values)\n",
        "  yPred=X@theta\n",
        "\n",
        "\n",
        "  #################################\n",
        "\n",
        "  return yPred\n",
        "\n",
        "def mse(y, yPred) :\n",
        "    ######### fill the code ###########\n",
        "    mse=np.square(np.subtract(y,yPred)).mean()\n",
        "\n",
        "\n",
        "    ####################################\n",
        "    return mse"
      ],
      "metadata": {
        "id": "eewQwIyZPmjO"
      },
      "execution_count": null,
      "outputs": []
    },
    {
      "cell_type": "code",
      "source": [
        "X_train\n"
      ],
      "metadata": {
        "colab": {
          "base_uri": "https://localhost:8080/",
          "height": 419
        },
        "id": "rrvJ4F2aK64N",
        "outputId": "53e8bea1-7725-475e-c5d5-e12abc1290b3"
      },
      "execution_count": null,
      "outputs": [
        {
          "output_type": "execute_result",
          "data": {
            "text/html": [
              "\n",
              "  <div id=\"df-707640fd-7764-460f-8a71-67d2e1ca8f81\">\n",
              "    <div class=\"colab-df-container\">\n",
              "      <div>\n",
              "<style scoped>\n",
              "    .dataframe tbody tr th:only-of-type {\n",
              "        vertical-align: middle;\n",
              "    }\n",
              "\n",
              "    .dataframe tbody tr th {\n",
              "        vertical-align: top;\n",
              "    }\n",
              "\n",
              "    .dataframe thead th {\n",
              "        text-align: right;\n",
              "    }\n",
              "</style>\n",
              "<table border=\"1\" class=\"dataframe\">\n",
              "  <thead>\n",
              "    <tr style=\"text-align: right;\">\n",
              "      <th></th>\n",
              "      <th>X1</th>\n",
              "      <th>X2</th>\n",
              "      <th>X3</th>\n",
              "      <th>X4</th>\n",
              "    </tr>\n",
              "  </thead>\n",
              "  <tbody>\n",
              "    <tr>\n",
              "      <th>213</th>\n",
              "      <td>0.415687</td>\n",
              "      <td>0.468351</td>\n",
              "      <td>-0.004825</td>\n",
              "      <td>-0.052503</td>\n",
              "    </tr>\n",
              "    <tr>\n",
              "      <th>6673</th>\n",
              "      <td>0.476243</td>\n",
              "      <td>0.223442</td>\n",
              "      <td>-0.002022</td>\n",
              "      <td>-0.023858</td>\n",
              "    </tr>\n",
              "    <tr>\n",
              "      <th>528</th>\n",
              "      <td>0.048789</td>\n",
              "      <td>0.175933</td>\n",
              "      <td>0.002143</td>\n",
              "      <td>0.007516</td>\n",
              "    </tr>\n",
              "    <tr>\n",
              "      <th>3616</th>\n",
              "      <td>-0.282488</td>\n",
              "      <td>-0.099175</td>\n",
              "      <td>-0.001637</td>\n",
              "      <td>0.151155</td>\n",
              "    </tr>\n",
              "    <tr>\n",
              "      <th>8982</th>\n",
              "      <td>0.206031</td>\n",
              "      <td>0.186798</td>\n",
              "      <td>-0.000384</td>\n",
              "      <td>-0.478372</td>\n",
              "    </tr>\n",
              "    <tr>\n",
              "      <th>...</th>\n",
              "      <td>...</td>\n",
              "      <td>...</td>\n",
              "      <td>...</td>\n",
              "      <td>...</td>\n",
              "    </tr>\n",
              "    <tr>\n",
              "      <th>3992</th>\n",
              "      <td>0.243179</td>\n",
              "      <td>0.102460</td>\n",
              "      <td>0.005745</td>\n",
              "      <td>-0.173771</td>\n",
              "    </tr>\n",
              "    <tr>\n",
              "      <th>8085</th>\n",
              "      <td>-0.548120</td>\n",
              "      <td>-0.269691</td>\n",
              "      <td>0.001925</td>\n",
              "      <td>0.204355</td>\n",
              "    </tr>\n",
              "    <tr>\n",
              "      <th>8064</th>\n",
              "      <td>0.453344</td>\n",
              "      <td>0.366705</td>\n",
              "      <td>-0.005733</td>\n",
              "      <td>-0.050594</td>\n",
              "    </tr>\n",
              "    <tr>\n",
              "      <th>8807</th>\n",
              "      <td>0.166339</td>\n",
              "      <td>0.079443</td>\n",
              "      <td>0.003070</td>\n",
              "      <td>-0.026313</td>\n",
              "    </tr>\n",
              "    <tr>\n",
              "      <th>9566</th>\n",
              "      <td>0.245723</td>\n",
              "      <td>0.278869</td>\n",
              "      <td>0.000593</td>\n",
              "      <td>-0.148945</td>\n",
              "    </tr>\n",
              "  </tbody>\n",
              "</table>\n",
              "<p>7654 rows × 4 columns</p>\n",
              "</div>\n",
              "      <button class=\"colab-df-convert\" onclick=\"convertToInteractive('df-707640fd-7764-460f-8a71-67d2e1ca8f81')\"\n",
              "              title=\"Convert this dataframe to an interactive table.\"\n",
              "              style=\"display:none;\">\n",
              "        \n",
              "  <svg xmlns=\"http://www.w3.org/2000/svg\" height=\"24px\"viewBox=\"0 0 24 24\"\n",
              "       width=\"24px\">\n",
              "    <path d=\"M0 0h24v24H0V0z\" fill=\"none\"/>\n",
              "    <path d=\"M18.56 5.44l.94 2.06.94-2.06 2.06-.94-2.06-.94-.94-2.06-.94 2.06-2.06.94zm-11 1L8.5 8.5l.94-2.06 2.06-.94-2.06-.94L8.5 2.5l-.94 2.06-2.06.94zm10 10l.94 2.06.94-2.06 2.06-.94-2.06-.94-.94-2.06-.94 2.06-2.06.94z\"/><path d=\"M17.41 7.96l-1.37-1.37c-.4-.4-.92-.59-1.43-.59-.52 0-1.04.2-1.43.59L10.3 9.45l-7.72 7.72c-.78.78-.78 2.05 0 2.83L4 21.41c.39.39.9.59 1.41.59.51 0 1.02-.2 1.41-.59l7.78-7.78 2.81-2.81c.8-.78.8-2.07 0-2.86zM5.41 20L4 18.59l7.72-7.72 1.47 1.35L5.41 20z\"/>\n",
              "  </svg>\n",
              "      </button>\n",
              "      \n",
              "  <style>\n",
              "    .colab-df-container {\n",
              "      display:flex;\n",
              "      flex-wrap:wrap;\n",
              "      gap: 12px;\n",
              "    }\n",
              "\n",
              "    .colab-df-convert {\n",
              "      background-color: #E8F0FE;\n",
              "      border: none;\n",
              "      border-radius: 50%;\n",
              "      cursor: pointer;\n",
              "      display: none;\n",
              "      fill: #1967D2;\n",
              "      height: 32px;\n",
              "      padding: 0 0 0 0;\n",
              "      width: 32px;\n",
              "    }\n",
              "\n",
              "    .colab-df-convert:hover {\n",
              "      background-color: #E2EBFA;\n",
              "      box-shadow: 0px 1px 2px rgba(60, 64, 67, 0.3), 0px 1px 3px 1px rgba(60, 64, 67, 0.15);\n",
              "      fill: #174EA6;\n",
              "    }\n",
              "\n",
              "    [theme=dark] .colab-df-convert {\n",
              "      background-color: #3B4455;\n",
              "      fill: #D2E3FC;\n",
              "    }\n",
              "\n",
              "    [theme=dark] .colab-df-convert:hover {\n",
              "      background-color: #434B5C;\n",
              "      box-shadow: 0px 1px 3px 1px rgba(0, 0, 0, 0.15);\n",
              "      filter: drop-shadow(0px 1px 2px rgba(0, 0, 0, 0.3));\n",
              "      fill: #FFFFFF;\n",
              "    }\n",
              "  </style>\n",
              "\n",
              "      <script>\n",
              "        const buttonEl =\n",
              "          document.querySelector('#df-707640fd-7764-460f-8a71-67d2e1ca8f81 button.colab-df-convert');\n",
              "        buttonEl.style.display =\n",
              "          google.colab.kernel.accessAllowed ? 'block' : 'none';\n",
              "\n",
              "        async function convertToInteractive(key) {\n",
              "          const element = document.querySelector('#df-707640fd-7764-460f-8a71-67d2e1ca8f81');\n",
              "          const dataTable =\n",
              "            await google.colab.kernel.invokeFunction('convertToInteractive',\n",
              "                                                     [key], {});\n",
              "          if (!dataTable) return;\n",
              "\n",
              "          const docLinkHtml = 'Like what you see? Visit the ' +\n",
              "            '<a target=\"_blank\" href=https://colab.research.google.com/notebooks/data_table.ipynb>data table notebook</a>'\n",
              "            + ' to learn more about interactive tables.';\n",
              "          element.innerHTML = '';\n",
              "          dataTable['output_type'] = 'display_data';\n",
              "          await google.colab.output.renderOutput(dataTable, element);\n",
              "          const docLink = document.createElement('div');\n",
              "          docLink.innerHTML = docLinkHtml;\n",
              "          element.appendChild(docLink);\n",
              "        }\n",
              "      </script>\n",
              "    </div>\n",
              "  </div>\n",
              "  "
            ],
            "text/plain": [
              "            X1        X2        X3        X4\n",
              "213   0.415687  0.468351 -0.004825 -0.052503\n",
              "6673  0.476243  0.223442 -0.002022 -0.023858\n",
              "528   0.048789  0.175933  0.002143  0.007516\n",
              "3616 -0.282488 -0.099175 -0.001637  0.151155\n",
              "8982  0.206031  0.186798 -0.000384 -0.478372\n",
              "...        ...       ...       ...       ...\n",
              "3992  0.243179  0.102460  0.005745 -0.173771\n",
              "8085 -0.548120 -0.269691  0.001925  0.204355\n",
              "8064  0.453344  0.366705 -0.005733 -0.050594\n",
              "8807  0.166339  0.079443  0.003070 -0.026313\n",
              "9566  0.245723  0.278869  0.000593 -0.148945\n",
              "\n",
              "[7654 rows x 4 columns]"
            ]
          },
          "metadata": {},
          "execution_count": 65
        }
      ]
    },
    {
      "cell_type": "code",
      "source": [
        "theta, loss_history = Train(X_train, Y_train, 0.000000099, 30)"
      ],
      "metadata": {
        "id": "X4i6FYkmQgZK"
      },
      "execution_count": null,
      "outputs": []
    },
    {
      "cell_type": "code",
      "source": [
        "theta"
      ],
      "metadata": {
        "id": "U0swoInYQj0r",
        "colab": {
          "base_uri": "https://localhost:8080/"
        },
        "outputId": "29f194d9-bf9b-4114-8256-486a89248dec"
      },
      "execution_count": null,
      "outputs": [
        {
          "output_type": "execute_result",
          "data": {
            "text/plain": [
              "array([ 1.02145589e+01, -1.27366133e-01, -7.49391508e-02,  9.62039175e-04,\n",
              "        2.76016867e-02])"
            ]
          },
          "metadata": {},
          "execution_count": 67
        }
      ]
    },
    {
      "cell_type": "code",
      "source": [
        "loss_history"
      ],
      "metadata": {
        "id": "cBtj7Dq8Qkpz",
        "colab": {
          "base_uri": "https://localhost:8080/"
        },
        "outputId": "7f1c1b12-0be3-4862-87cf-a16b6372a0a3"
      },
      "execution_count": null,
      "outputs": [
        {
          "output_type": "execute_result",
          "data": {
            "text/plain": [
              "array([206363.4747649 , 206051.22601361, 205739.4501959 , 205428.14659535,\n",
              "       205117.31449661, 204806.95318543, 204497.06194863, 204187.64007412,\n",
              "       203878.68685087, 203570.20156894, 203262.18351948, 202954.63199469,\n",
              "       202647.54628785, 202340.92569331, 202034.7695065 , 201729.07702391,\n",
              "       201423.84754308, 201119.08036263, 200814.77478226, 200510.93010269,\n",
              "       200207.54562573, 199904.62065423, 199602.15449213, 199300.14644437,\n",
              "       198998.59581699, 198697.50191705, 198396.86405269, 198096.68153307,\n",
              "       197796.9536684 , 197497.67976997])"
            ]
          },
          "metadata": {},
          "execution_count": 68
        }
      ]
    },
    {
      "cell_type": "code",
      "source": [
        "ypred = predict(X_test, theta)\n",
        "mse = mse(Y_test, ypred)\n",
        "mse"
      ],
      "metadata": {
        "id": "GC_oGb-gQq-Y",
        "colab": {
          "base_uri": "https://localhost:8080/"
        },
        "outputId": "24f91c4b-94d4-4deb-d0b5-30cc4e5677f6"
      },
      "execution_count": null,
      "outputs": [
        {
          "output_type": "execute_result",
          "data": {
            "text/plain": [
              "197802.82795568532"
            ]
          },
          "metadata": {},
          "execution_count": 69
        }
      ]
    },
    {
      "cell_type": "code",
      "source": [
        "epoch = 30\n",
        "plt.figure()\n",
        "plt.plot(np.arange(epoch), loss_history, c='blue')\n",
        "plt.xlabel('Iterations')\n",
        "plt.ylabel('Cost, ' + r'$J(\\theta)$')"
      ],
      "metadata": {
        "id": "QqCe3BX3Qvii",
        "colab": {
          "base_uri": "https://localhost:8080/",
          "height": 296
        },
        "outputId": "b9a40ebd-58f1-4e8e-8c73-239008ddefff"
      },
      "execution_count": null,
      "outputs": [
        {
          "output_type": "execute_result",
          "data": {
            "text/plain": [
              "Text(0, 0.5, 'Cost, $J(\\\\theta)$')"
            ]
          },
          "metadata": {},
          "execution_count": 70
        },
        {
          "output_type": "display_data",
          "data": {
            "image/png": "[encoded data removed]",
            "text/plain": [
              "<Figure size 432x288 with 1 Axes>"
            ]
          },
          "metadata": {
            "needs_background": "light"
          }
        }
      ]
    },
    {
      "cell_type": "markdown",
      "source": [
        "# Convert the functions into a class"
      ],
      "metadata": {
        "id": "DsjHM4h7Q_GL"
      }
    },
    {
      "cell_type": "markdown",
      "source": [
        "# Batch gradient descent"
      ],
      "metadata": {
        "id": "HTB0oKFcRWbl"
      }
    },
    {
      "cell_type": "code",
      "source": [
        "import numpy as np\n",
        "class BGD:\n",
        "  ######### create your own class #########\n",
        "\n",
        "  def __init__(self, lr, epoch):\n",
        "    self.lr=lr\n",
        "    self.epoch=epoch\n",
        "    self.theta=None\n",
        "    self.cost_history=None\n",
        "\n",
        "  def add_ones(self,X):\n",
        "    self.X=X\n",
        "    ###### fill the code ####\n",
        "    X_new=np.hstack([np.ones((self.X.shape[0], 1)), self.X])\n",
        "    #########################\n",
        "    return X_new\n",
        "\n",
        "  def compute_cost(self,X, y,theta):\n",
        "    ######## fill the code ###########\n",
        "\n",
        "    loss=(1/len(y))*np.sum((self.X.dot(self.theta)-self.y)**2)\n",
        "    ##################################\n",
        "\n",
        "\n",
        "    return loss\n",
        "\n",
        "\n",
        "  def Train(self,X,y):\n",
        "    m = len(y)\n",
        "    X = add_ones(X.values)\n",
        "    theta = np.zeros(X.shape[1])\n",
        "\n",
        "    cost_history= np.zeros(epoch)\n",
        "\n",
        "  ######## fill the code #######\n",
        "    for i in range(self.epoch):\n",
        "    \n",
        "      theta_new=theta-self.lr*X.T.dot(X.dot(theta)-y)\n",
        "      theta=theta_new\n",
        "      cost_history[i]=compute_cost(X, y, theta)\n",
        "  ##############################\n",
        "\n",
        "      return  theta, cost_history\n",
        "  \n",
        "  \n",
        "  def predict(self,X):\n",
        "  ########## fill the code #########\n",
        "    X=add_ones(X.values)\n",
        "    yPred=X@theta\n",
        "  #################################\n",
        "\n",
        "    return yPred\n",
        "\n",
        "  def mse(self,y, yPred) :\n",
        "    self.y=y\n",
        "    ######### fill the code ###########\n",
        "    mse=np.square(np.subtract(y,yPred)).mean()\n",
        "\n",
        "\n",
        "    ####################################\n",
        "    return mse"
      ],
      "metadata": {
        "id": "XsahPjfFRE-0"
      },
      "execution_count": null,
      "outputs": []
    },
    {
      "cell_type": "code",
      "source": [
        "model=BGD(0.000000099, 30)"
      ],
      "metadata": {
        "id": "utDZIE3ER5X6"
      },
      "execution_count": null,
      "outputs": []
    },
    {
      "cell_type": "code",
      "source": [
        "theta, loss_history,model.Train(X_train, Y_train)\n"
      ],
      "metadata": {
        "id": "iBJlnF0DR5af"
      },
      "execution_count": null,
      "outputs": []
    },
    {
      "cell_type": "code",
      "source": [
        "yPred=model.predict(X_test)\n",
        "yPred"
      ],
      "metadata": {
        "id": "Y6uYgz6CR5tg"
      },
      "execution_count": null,
      "outputs": []
    },
    {
      "cell_type": "code",
      "source": [
        "model.mse(Y_test,yPred)"
      ],
      "metadata": {
        "colab": {
          "base_uri": "https://localhost:8080/"
        },
        "id": "ZlCdvNG2fgaE",
        "outputId": "37e6f535-3e11-46e4-93cc-9837a22460c7"
      },
      "execution_count": null,
      "outputs": [
        {
          "output_type": "execute_result",
          "data": {
            "text/plain": [
              "197802.82795568532"
            ]
          },
          "metadata": {},
          "execution_count": 94
        }
      ]
    },
    {
      "cell_type": "markdown",
      "source": [
        "# STOCHASTIC GRADIENT DESCENT"
      ],
      "metadata": {
        "id": "SDyAqlubR3L6"
      }
    },
    {
      "cell_type": "code",
      "source": [
        "import numpy as np\n",
        "class SGD: \n",
        "  ######### create your own class #########\n",
        "\n",
        "  def __init__(self, lr, epoch):\n",
        "    self.lr=lr\n",
        "    self.epoch=epoch\n",
        "    self.theta=None\n",
        "    self.cost_history=None\n",
        "\n",
        "  def add_ones(self,X):\n",
        "    self.X=X\n",
        "    ###### fill the code ####\n",
        "    X_new=np.hstack([np.ones((self.X.shape[0], 1)), self.X])\n",
        "    #########################\n",
        "    return X_new\n",
        "\n",
        "    ##################################\n",
        "  def compute_cost(self, X, y, theta):\n",
        "    loss = ((X.dot(self.theta)-y)**2)\n",
        "    return np.sum(loss)\n",
        "\n",
        "\n",
        "  def Train(self, X, y):\n",
        "    m = len(y)\n",
        "    X = self.add_ones(X.values)\n",
        "    self.theta = np.zeros(X.shape[1])\n",
        "    \n",
        "    self.cost_history = np.zeros(self.epoch)\n",
        "    \n",
        "    ######## fill the code #######\n",
        "    for i in range(self.epoch):\n",
        "      np.random.seed(3)\n",
        "      perm = np.random.permutation(len(X_train))\n",
        "      X = X[perm]\n",
        "      y = y.iloc[perm]\n",
        "      ##print(X[0:3])\n",
        "      ##print(y[0:3])\n",
        "      for j in range(len(X)):\n",
        "        theta_new = self.theta - self.lr*X[j].T.dot(X[j].dot(self.theta) - y.iloc[j])\n",
        "        self.theta = theta_new \n",
        "        self.cost_history[i] = self.compute_cost(X, y,self.theta)\n",
        "        return  self.theta, self.cost_history\n",
        "  \n",
        "  def predict(self,X):\n",
        "  ########## fill the code #########\n",
        "    X=add_ones(X.values)\n",
        "    yPred=X@theta\n",
        "  #################################\n",
        "\n",
        "    return yPred\n",
        "\n",
        "  def mse(self,y, yPred) :\n",
        "    self.y=y\n",
        "    ######### fill the code ###########\n",
        "    mse=np.square(np.subtract(y,yPred)).mean()\n",
        "\n",
        "\n",
        "    ####################################\n",
        "    return mse"
      ],
      "metadata": {
        "id": "r9TJok-OR4XU"
      },
      "execution_count": null,
      "outputs": []
    },
    {
      "cell_type": "code",
      "source": [
        "model1=SGD(0.000000099, 30)"
      ],
      "metadata": {
        "id": "xFuuVuWGyJfz"
      },
      "execution_count": null,
      "outputs": []
    },
    {
      "cell_type": "code",
      "source": [
        "theta,loss_history1= model1.Train(X_train, Y_train)"
      ],
      "metadata": {
        "id": "pReu9U1byODR"
      },
      "execution_count": null,
      "outputs": []
    },
    {
      "cell_type": "code",
      "source": [
        "yPred=model1.predict(X_test)\n",
        "yPred"
      ],
      "metadata": {
        "colab": {
          "base_uri": "https://localhost:8080/"
        },
        "id": "H-_n4AeyyS7C",
        "outputId": "865e0cd9-40cf-4e49-9697-4fd9bf50bd58"
      },
      "execution_count": null,
      "outputs": [
        {
          "output_type": "execute_result",
          "data": {
            "text/plain": [
              "array([5.29829666e-05, 6.22497353e-05, 3.76382253e-05, ...,\n",
              "       7.31639318e-05, 6.03673744e-05, 6.69073907e-05])"
            ]
          },
          "metadata": {},
          "execution_count": 25
        }
      ]
    },
    {
      "cell_type": "code",
      "source": [
        "model1.mse(Y_test,yPred)"
      ],
      "metadata": {
        "colab": {
          "base_uri": "https://localhost:8080/"
        },
        "id": "DXgIu7mzyT3e",
        "outputId": "1f601d3c-f41a-4db3-8bd4-f6d8a52e15d3"
      },
      "execution_count": null,
      "outputs": [
        {
          "output_type": "execute_result",
          "data": {
            "text/plain": [
              "206989.16957046502"
            ]
          },
          "metadata": {},
          "execution_count": 26
        }
      ]
    },
    {
      "cell_type": "code",
      "source": [
        "epoch = 30\n",
        "plt.figure()\n",
        "plt.plot(np.arange(epoch), loss_history1, c='blue')\n",
        "plt.xlabel('Iterations')\n",
        "plt.ylabel('Cost, ' + r'$J(\\theta)$')"
      ],
      "metadata": {
        "colab": {
          "base_uri": "https://localhost:8080/",
          "height": 307
        },
        "id": "dtkdwR_P3bFl",
        "outputId": "856d6b36-e329-4871-f0f6-1afa5deb0b17"
      },
      "execution_count": null,
      "outputs": [
        {
          "output_type": "execute_result",
          "data": {
            "text/plain": [
              "Text(0, 0.5, 'Cost, $J(\\\\theta)$')"
            ]
          },
          "metadata": {},
          "execution_count": 27
        },
        {
          "output_type": "display_data",
          "data": {
            "image/png": "[encoded data removed]",
            "text/plain": [
              "<Figure size 432x288 with 1 Axes>"
            ]
          },
          "metadata": {
            "needs_background": "light"
          }
        }
      ]
    },
    {
      "cell_type": "markdown",
      "source": [
        "# Mini batch gradient descent"
      ],
      "metadata": {
        "id": "SuvQy5xXSRoy"
      }
    },
    {
      "cell_type": "code",
      "source": [
        "class MBGD:\n",
        "  #######################\n",
        "    ####################\n",
        "  def __init__(self, lr, epoch, batch_size):\n",
        "    self.lr = lr\n",
        "    self.epoch = epoch\n",
        "    self.batch_size = batch_size\n",
        "    self.theta = None\n",
        "    self.cost_history = None\n",
        "  \n",
        "  # def shuffle(self, X, y):\n",
        "\n",
        "\n",
        "  def add_ones(self, X):\n",
        "    X_new = np.hstack([np.ones((X.shape[0], 1)), X])\n",
        "    return X_new \n",
        "\n",
        "\n",
        "  def Train(self, X, y):\n",
        "    m = len(y)\n",
        "    X = self.add_ones(X.values)\n",
        "    self.theta = np.zeros(X.shape[1])\n",
        "    \n",
        "    self.cost_history = np.zeros(self.epoch)\n",
        "    ######## fill the code #######\n",
        "    for i in range(self.epoch):\n",
        "      print(\"epoch:\",i, \"loss:\",self.cost_history)\n",
        "      np.random.seed(3)\n",
        "      perm = np.random.permutation(len(X_train))\n",
        "      X = X[perm]\n",
        "      y = y.iloc[perm]\n",
        "\n",
        "      for j in range(0, len(X), self.batch_size):\n",
        "        theta_new = self.theta - (1/self.batch_size)*self.lr*X[j:j+self.batch_size].T.dot(X[j:j+self.batch_size].dot(self.theta) - y.iloc[j:j+self.batch_size])\n",
        "        self.theta = theta_new \n",
        "        self.cost_history[i] = self.compute_cost(X, y, theta)\n",
        "\n",
        "    ##############################\n",
        "\n",
        "    ##return  self.theta, self.cost_history \n",
        "  \n",
        "  def predict(self, X):\n",
        "    X = self.add_ones(X.values)\n",
        "    yPred = X.dot(self.theta)  \n",
        "    return yPred \n",
        "\n",
        "  def mse(self,y, yPred) :\n",
        "    self.y=y\n",
        "    ######### fill the code ###########\n",
        "    mse=np.square(np.subtract(y,yPred)).mean()\n",
        "    return mse\n",
        "\n",
        "  def compute_cost(self, X, y, theta):\n",
        "    loss = (1/self.batch_size)*np.sum((X.dot(self.theta)-y)**2)\n",
        "    return np.sum(loss)"
      ],
      "metadata": {
        "id": "RNDx0ITHSVaZ"
      },
      "execution_count": null,
      "outputs": []
    },
    {
      "cell_type": "code",
      "source": [
        "model2=MBGD(0.000000099, 30, 5)"
      ],
      "metadata": {
        "id": "nbUOuxNJ4uE9"
      },
      "execution_count": null,
      "outputs": []
    },
    {
      "cell_type": "code",
      "source": [
        "model2.Train(X_train, Y_train)"
      ],
      "metadata": {
        "id": "ZQm6GEZ85H9B"
      },
      "execution_count": null,
      "outputs": []
    },
    {
      "cell_type": "code",
      "source": [
        "yPred=model2.predict(X_test)\n",
        "yPred"
      ],
      "metadata": {
        "colab": {
          "base_uri": "https://localhost:8080/"
        },
        "id": "1QGvIuej6ivN",
        "outputId": "9e888d8d-a9da-44e3-ceca-7688bef552b5"
      },
      "execution_count": null,
      "outputs": [
        {
          "output_type": "execute_result",
          "data": {
            "text/plain": [
              "array([2.06310914, 2.07473165, 2.05143222, ..., 2.08373022, 2.07291452,\n",
              "       2.07914539])"
            ]
          },
          "metadata": {},
          "execution_count": 179
        }
      ]
    },
    {
      "cell_type": "code",
      "source": [
        "model2.mse(Y_test,yPred)"
      ],
      "metadata": {
        "colab": {
          "base_uri": "https://localhost:8080/"
        },
        "id": "OxKzNoQi6_lP",
        "outputId": "6579791d-4936-4ec0-ffdf-9383d3e90512"
      },
      "execution_count": null,
      "outputs": [
        {
          "output_type": "execute_result",
          "data": {
            "text/plain": [
              "205119.08576833332"
            ]
          },
          "metadata": {},
          "execution_count": 180
        }
      ]
    },
    {
      "cell_type": "code",
      "source": [
        "epoch = 30\n",
        "plt.figure()\n",
        "plt.plot(np.arange(epoch), loss_history2, c='blue')\n",
        "plt.xlabel('Iterations')\n",
        "plt.ylabel('Cost, ' + r'$J(\\theta)$')"
      ],
      "metadata": {
        "colab": {
          "base_uri": "https://localhost:8080/",
          "height": 307
        },
        "id": "rlr4DfLP7jXh",
        "outputId": "7e9aae9a-0d61-47be-f69f-262c6d0e804c"
      },
      "execution_count": null,
      "outputs": [
        {
          "output_type": "execute_result",
          "data": {
            "text/plain": [
              "Text(0, 0.5, 'Cost, $J(\\\\theta)$')"
            ]
          },
          "metadata": {},
          "execution_count": 181
        },
        {
          "output_type": "display_data",
          "data": {
            "image/png": "[encoded data removed]",
            "text/plain": [
              "<Figure size 432x288 with 1 Axes>"
            ]
          },
          "metadata": {
            "needs_background": "light"
          }
        }
      ]
    }
  ]
}